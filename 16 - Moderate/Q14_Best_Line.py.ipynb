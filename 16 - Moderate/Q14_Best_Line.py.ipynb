{
 "cells": [
  {
   "cell_type": "code",
   "execution_count": 3,
   "metadata": {
    "collapsed": true
   },
   "outputs": [],
   "source": [
    "problem = \"\"\"\n",
    "Given a two-dimensional graph with points on it, find a line which passes through the most number of points\n",
    "\"\"\""
   ]
  },
  {
   "cell_type": "code",
   "execution_count": 5,
   "metadata": {
    "collapsed": true
   },
   "outputs": [],
   "source": [
    "X = 0\n",
    "Y = 1\n",
    "SLOPE = 0\n",
    "Y_INTERCEPT = 1"
   ]
  },
  {
   "cell_type": "code",
   "execution_count": 18,
   "metadata": {},
   "outputs": [],
   "source": [
    "def find_line_between_two_points(p1, p2):\n",
    "    # In the case that we have a vertical line with infinite slope\n",
    "    denom = float(p2[X] - p1[X])\n",
    "    if denom == 0:\n",
    "        slope = float(\"inf\")\n",
    "        y_intercept = p1[Y]\n",
    "    else:\n",
    "        slope = float(p2[Y] - p1[Y]) / denom\n",
    "        y_intercept = p1[Y] - slope*p1[X]\n",
    "    return (slope, y_intercept)\n",
    "\n",
    "def find_line(points_list):\n",
    "    all_points_pairs = [(first, second) for i, first in enumerate(points_list) \n",
    "                        for j, second in enumerate(points_list) if i != j]\n",
    "    \n",
    "    # The if statement takes care of the special case when we have two equal points (infinite lines through \n",
    "    # the same point)\n",
    "    lines = [find_line_between_two_points(x, y) for x, y in all_points_pairs if x != y] \n",
    "    \n",
    "    # Find the line that is most frequent within the lines generated between all possible points\n",
    "    number_of_pairs_passing_through_line = {}\n",
    "    max_number = 0\n",
    "    line_with_max = None\n",
    "    for line in lines:\n",
    "        print number_of_pairs_passing_through_line\n",
    "        new = number_of_pairs_passing_through_line.get(line, 0) + 1\n",
    "        number_of_pairs_passing_through_line[line] = new\n",
    "        if new > max_number:\n",
    "            max_number = new\n",
    "            line_with_max = line\n",
    "    return line_with_max"
   ]
  },
  {
   "cell_type": "code",
   "execution_count": 19,
   "metadata": {},
   "outputs": [
    {
     "name": "stdout",
     "output_type": "stream",
     "text": [
      "{}\n",
      "{(1.0, 0.0): 1}\n",
      "{(1.0, 0.0): 1, (inf, 0): 1}\n",
      "{(1.0, 0.0): 2, (inf, 0): 1}\n",
      "{(1.0, 0.0): 2, (-1.0, 2.0): 1, (inf, 0): 1}\n",
      "{(1.0, 0.0): 2, (-1.0, 2.0): 1, (inf, 0): 1, (inf, 2): 1}\n"
     ]
    },
    {
     "data": {
      "text/plain": [
       "(1.0, 0.0)"
      ]
     },
     "execution_count": 19,
     "metadata": {},
     "output_type": "execute_result"
    }
   ],
   "source": [
    "find_line([(0,0), (1,1), (0,2)])"
   ]
  },
  {
   "cell_type": "code",
   "execution_count": null,
   "metadata": {
    "collapsed": true
   },
   "outputs": [],
   "source": []
  }
 ],
 "metadata": {
  "kernelspec": {
   "display_name": "Python [default]",
   "language": "python",
   "name": "python2"
  },
  "language_info": {
   "codemirror_mode": {
    "name": "ipython",
    "version": 2
   },
   "file_extension": ".py",
   "mimetype": "text/x-python",
   "name": "python",
   "nbconvert_exporter": "python",
   "pygments_lexer": "ipython2",
   "version": "2.7.13"
  }
 },
 "nbformat": 4,
 "nbformat_minor": 2
}
